{
 "cells": [
  {
   "cell_type": "code",
   "execution_count": null,
   "id": "40d16418",
   "metadata": {},
   "outputs": [
    {
     "data": {
      "text/plain": [
       "{'Sentences': 2, 'Words': 16, 'Characters': 76}"
      ]
     },
     "execution_count": 11,
     "metadata": {},
     "output_type": "execute_result"
    }
   ],
   "source": [
    "import txt_file_processing as tfp\n",
    "\n",
    "tfp.create_report('test_text.txt')"
   ]
  },
  {
   "cell_type": "code",
   "execution_count": 49,
   "id": "4ad8c145",
   "metadata": {},
   "outputs": [],
   "source": [
    "example_text = \"\"\"\n",
    "Neo believes that Morpheus, an elusive figure considered to \n",
    "be the most dangerous man alive, can answer his question -- What \n",
    "is the Matrix?\n",
    "\"\"\"\n",
    "\n",
    "lc_txt = example_text.lower()\n",
    "no_hyphen_txt = example_text.replace(\"-- \", \"\")"
   ]
  },
  {
   "cell_type": "code",
   "execution_count": null,
   "id": "6bed3c96",
   "metadata": {},
   "outputs": [],
   "source": []
  }
 ],
 "metadata": {
  "kernelspec": {
   "display_name": "base",
   "language": "python",
   "name": "python3"
  },
  "language_info": {
   "codemirror_mode": {
    "name": "ipython",
    "version": 3
   },
   "file_extension": ".py",
   "mimetype": "text/x-python",
   "name": "python",
   "nbconvert_exporter": "python",
   "pygments_lexer": "ipython3",
   "version": "3.12.7"
  }
 },
 "nbformat": 4,
 "nbformat_minor": 5
}
