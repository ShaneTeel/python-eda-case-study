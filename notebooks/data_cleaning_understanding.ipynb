{
 "cells": [
  {
   "cell_type": "markdown",
   "id": "68ad243b",
   "metadata": {},
   "source": [
    "# Data Cleaning and Investigation"
   ]
  },
  {
   "cell_type": "markdown",
   "id": "9e3141de",
   "metadata": {},
   "source": [
    "## Imports"
   ]
  },
  {
   "cell_type": "markdown",
   "id": "cc911c14",
   "metadata": {},
   "source": [
    "### Import Libraries"
   ]
  },
  {
   "cell_type": "code",
   "execution_count": 4,
   "id": "c7a55ae6",
   "metadata": {},
   "outputs": [],
   "source": [
    "import numpy as np\n",
    "import pandas as pd\n",
    "import matplotlib.pyplot as plt\n",
    "import seaborn as sns\n",
    "import plotly.express as px"
   ]
  },
  {
   "cell_type": "markdown",
   "id": "3bc26b95",
   "metadata": {},
   "source": [
    "### Import Palettes"
   ]
  },
  {
   "cell_type": "code",
   "execution_count": 2,
   "id": "8a412394",
   "metadata": {},
   "outputs": [],
   "source": [
    "import sys\n",
    "\n",
    "sys.path.append(r'C:\\Users\\svtee\\DAI')\n",
    "\n",
    "from helper.my_funcs import (classic_color, \n",
    "                             yacht_club_color, \n",
    "                             bold_basics_color,\n",
    "                             basic_brights_color,\n",
    "                             beeswax_clay_color,\n",
    "                             main_color\n",
    "                             )"
   ]
  },
  {
   "cell_type": "markdown",
   "id": "4a3ac595",
   "metadata": {},
   "source": [
    "### Load / Read and Validate Data"
   ]
  },
  {
   "cell_type": "code",
   "execution_count": 7,
   "id": "f924f0fa",
   "metadata": {},
   "outputs": [],
   "source": [
    "yt_df = pd.read_csv('../.gitignore/data/USvideos.csv')"
   ]
  }
 ],
 "metadata": {
  "kernelspec": {
   "display_name": "base",
   "language": "python",
   "name": "python3"
  },
  "language_info": {
   "codemirror_mode": {
    "name": "ipython",
    "version": 3
   },
   "file_extension": ".py",
   "mimetype": "text/x-python",
   "name": "python",
   "nbconvert_exporter": "python",
   "pygments_lexer": "ipython3",
   "version": "3.12.7"
  }
 },
 "nbformat": 4,
 "nbformat_minor": 5
}
