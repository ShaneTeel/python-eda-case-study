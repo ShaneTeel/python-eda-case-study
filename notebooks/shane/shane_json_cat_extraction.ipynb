{
 "cells": [
  {
   "cell_type": "markdown",
   "id": "68ad243b",
   "metadata": {},
   "source": [
    "# Extract Category Names from `.json` File"
   ]
  },
  {
   "cell_type": "markdown",
   "id": "9e3141de",
   "metadata": {},
   "source": [
    "## Imports"
   ]
  },
  {
   "cell_type": "markdown",
   "id": "cc911c14",
   "metadata": {},
   "source": [
    "### Import Libraries"
   ]
  },
  {
   "cell_type": "code",
   "execution_count": 1,
   "id": "c7a55ae6",
   "metadata": {},
   "outputs": [],
   "source": [
    "import numpy as np\n",
    "import pandas as pd\n",
    "import matplotlib.pyplot as plt\n",
    "import seaborn as sns\n",
    "import plotly.express as px"
   ]
  },
  {
   "cell_type": "markdown",
   "id": "3bc26b95",
   "metadata": {},
   "source": [
    "### Import Palettes"
   ]
  },
  {
   "cell_type": "code",
   "execution_count": 2,
   "id": "8a412394",
   "metadata": {},
   "outputs": [],
   "source": [
    "import sys\n",
    "\n",
    "sys.path.append(r'C:\\Users\\svtee\\DAI')\n",
    "\n",
    "from helper.my_funcs import (classic_color, \n",
    "                             yacht_club_color, \n",
    "                             bold_basics_color,\n",
    "                             basic_brights_color,\n",
    "                             beeswax_clay_color,\n",
    "                             main_color\n",
    "                             )"
   ]
  },
  {
   "cell_type": "markdown",
   "id": "4a3ac595",
   "metadata": {},
   "source": [
    "### Load / Read and Validate Data"
   ]
  },
  {
   "cell_type": "code",
   "execution_count": 3,
   "id": "6ac1b44d",
   "metadata": {},
   "outputs": [
    {
     "name": "stdout",
     "output_type": "stream",
     "text": [
      "<class 'pandas.core.frame.DataFrame'>\n",
      "RangeIndex: 32 entries, 0 to 31\n",
      "Data columns (total 3 columns):\n",
      " #   Column  Non-Null Count  Dtype \n",
      "---  ------  --------------  ----- \n",
      " 0   kind    32 non-null     object\n",
      " 1   etag    32 non-null     object\n",
      " 2   items   32 non-null     object\n",
      "dtypes: object(3)\n",
      "memory usage: 900.0+ bytes\n"
     ]
    }
   ],
   "source": [
    "yt_json_df = pd.read_json('../.gitignore/data/US_category_id.json')\n",
    "\n",
    "yt_json_df.info()"
   ]
  },
  {
   "cell_type": "markdown",
   "id": "0c1dbf7f",
   "metadata": {},
   "source": [
    "### Rough Draft"
   ]
  },
  {
   "cell_type": "code",
   "execution_count": 4,
   "id": "24a73159",
   "metadata": {},
   "outputs": [
    {
     "data": {
      "text/plain": [
       "0    Film & Animation\n",
       "1    Autos & Vehicles\n",
       "2               Music\n",
       "3      Pets & Animals\n",
       "4              Sports\n",
       "Name: items, dtype: object"
      ]
     },
     "execution_count": 4,
     "metadata": {},
     "output_type": "execute_result"
    }
   ],
   "source": [
    "cat_values = yt_json_df['items'].str.get('snippet').str.get('title')\n",
    "cat_values.head()"
   ]
  },
  {
   "cell_type": "code",
   "execution_count": 5,
   "id": "c80622e0",
   "metadata": {},
   "outputs": [
    {
     "data": {
      "text/plain": [
       "0     1\n",
       "1     2\n",
       "2    10\n",
       "3    15\n",
       "4    17\n",
       "Name: items, dtype: int32"
      ]
     },
     "execution_count": 5,
     "metadata": {},
     "output_type": "execute_result"
    }
   ],
   "source": [
    "cat_keys = yt_json_df['items'].str.get('id').astype(int)\n",
    "cat_keys.head()"
   ]
  },
  {
   "cell_type": "code",
   "execution_count": 6,
   "id": "af916836",
   "metadata": {},
   "outputs": [
    {
     "data": {
      "text/plain": [
       "{1: 'Film & Animation',\n",
       " 2: 'Autos & Vehicles',\n",
       " 10: 'Music',\n",
       " 15: 'Pets & Animals',\n",
       " 17: 'Sports',\n",
       " 18: 'Short Movies',\n",
       " 19: 'Travel & Events',\n",
       " 20: 'Gaming',\n",
       " 21: 'Videoblogging',\n",
       " 22: 'People & Blogs',\n",
       " 23: 'Comedy',\n",
       " 24: 'Entertainment',\n",
       " 25: 'News & Politics',\n",
       " 26: 'Howto & Style',\n",
       " 27: 'Education',\n",
       " 28: 'Science & Technology',\n",
       " 29: 'Nonprofits & Activism',\n",
       " 30: 'Movies',\n",
       " 31: 'Anime/Animation',\n",
       " 32: 'Action/Adventure',\n",
       " 33: 'Classics',\n",
       " 34: 'Comedy',\n",
       " 35: 'Documentary',\n",
       " 36: 'Drama',\n",
       " 37: 'Family',\n",
       " 38: 'Foreign',\n",
       " 39: 'Horror',\n",
       " 40: 'Sci-Fi/Fantasy',\n",
       " 41: 'Thriller',\n",
       " 42: 'Shorts',\n",
       " 43: 'Shows',\n",
       " 44: 'Trailers'}"
      ]
     },
     "execution_count": 6,
     "metadata": {},
     "output_type": "execute_result"
    }
   ],
   "source": [
    "cat_dict = dict(zip(cat_keys, cat_values))\n",
    "\n",
    "cat_dict"
   ]
  },
  {
   "cell_type": "markdown",
   "id": "a6351826",
   "metadata": {},
   "source": [
    "### Final Draft"
   ]
  },
  {
   "cell_type": "code",
   "execution_count": 11,
   "id": "c8745398",
   "metadata": {},
   "outputs": [
    {
     "data": {
      "text/plain": [
       "{1: 'Film & Animation',\n",
       " 2: 'Autos & Vehicles',\n",
       " 10: 'Music',\n",
       " 15: 'Pets & Animals',\n",
       " 17: 'Sports',\n",
       " 18: 'Short Movies',\n",
       " 19: 'Travel & Events',\n",
       " 20: 'Gaming',\n",
       " 21: 'Videoblogging',\n",
       " 22: 'People & Blogs',\n",
       " 23: 'Comedy',\n",
       " 24: 'Entertainment',\n",
       " 25: 'News & Politics',\n",
       " 26: 'Howto & Style',\n",
       " 27: 'Education',\n",
       " 28: 'Science & Technology',\n",
       " 29: 'Nonprofits & Activism',\n",
       " 30: 'Movies',\n",
       " 31: 'Anime/Animation',\n",
       " 32: 'Action/Adventure',\n",
       " 33: 'Classics',\n",
       " 34: 'Comedy',\n",
       " 35: 'Documentary',\n",
       " 36: 'Drama',\n",
       " 37: 'Family',\n",
       " 38: 'Foreign',\n",
       " 39: 'Horror',\n",
       " 40: 'Sci-Fi/Fantasy',\n",
       " 41: 'Thriller',\n",
       " 42: 'Shorts',\n",
       " 43: 'Shows',\n",
       " 44: 'Trailers'}"
      ]
     },
     "execution_count": 11,
     "metadata": {},
     "output_type": "execute_result"
    }
   ],
   "source": [
    "# Transfer final copy to `shane's_notebook.ipynb`\n",
    "yt_json_df = pd.read_json('../.gitignore/data/US_category_id.json')\n",
    "\n",
    "cat_dict2 = dict(\n",
    "    zip(\n",
    "        yt_json_df['items'].str.get('id').astype(int),\n",
    "        yt_json_df['items'].str.get('snippet').str.get('title')\n",
    "    )\n",
    ")\n",
    "\n",
    "cat_dict2"
   ]
  }
 ],
 "metadata": {
  "kernelspec": {
   "display_name": "base",
   "language": "python",
   "name": "python3"
  },
  "language_info": {
   "codemirror_mode": {
    "name": "ipython",
    "version": 3
   },
   "file_extension": ".py",
   "mimetype": "text/x-python",
   "name": "python",
   "nbconvert_exporter": "python",
   "pygments_lexer": "ipython3",
   "version": "3.12.7"
  }
 },
 "nbformat": 4,
 "nbformat_minor": 5
}
